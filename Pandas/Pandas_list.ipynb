{
 "cells": [
  {
   "cell_type": "code",
   "execution_count": null,
   "source": [],
   "outputs": [],
   "metadata": {}
  },
  {
   "cell_type": "markdown",
   "source": [
    "### Various Methods that help \r\n",
    "- dtype\r\n",
    "- head()\r\n",
    "- .sample(n=5)\r\n",
    "- .value_counts()\r\n",
    "- .value_counts(normalize=True) <-- Returns a series with relative frequencies.\r\n",
    "- .size\r\n",
    "- .shape\r\n",
    "- len(column_name)\r\n",
    "- .unique()\r\n",
    "- .count()\r\n",
    "- .min()\r\n",
    "- .max()\r\n",
    "- .mean()\r\n",
    "- .median() <-- Gives Median. Returns Scalar Value.\r\n",
    "- .std() <-- Returns Standard Deviation. Returns Scalar value\r\n",
    "- .describe() <-- Returns a series. Gives satatistical summary data. Out put varies depending upon the dtype.\r\n",
    "- .quantile([0.1,0.2,0.3......,0.8,0.9])   <--n  Only for numeric Data though. Returns Series\r\n",
    "- .quantile(0.3) <-- Returns Third Quantile value. Returns Scalar\r\n",
    "- .isna() <-- Returns True if the value is NaN else False. Returns Series\r\n",
    "- .notna() <-- Complement to the .isna() method\r\n",
    "- .fillna(0)  <-- Replaces the NaN with 0. Returns Series\r\n",
    "- .dropna() <--Drops the rows having NaN in that column. Returns Series.\r\n",
    "- .hasnans <-- Returns True or False if a column has NaNs\r\n",
    "- // <-- Returns the floor value of the division\r\n",
    "- % <-- Returns the reminder after a division\r\n",
    "\r\n",
    "\r\n"
   ],
   "metadata": {}
  }
 ],
 "metadata": {
  "orig_nbformat": 4,
  "language_info": {
   "name": "python",
   "version": "3.8.8"
  },
  "kernelspec": {
   "name": "python3",
   "display_name": "Python 3.8.8 64-bit ('base': conda)"
  },
  "interpreter": {
   "hash": "8c4a8b360c0157dfe26207fb9fdfcde646f5420e94cd86b887b553c73308aa1b"
  }
 },
 "nbformat": 4,
 "nbformat_minor": 2
}